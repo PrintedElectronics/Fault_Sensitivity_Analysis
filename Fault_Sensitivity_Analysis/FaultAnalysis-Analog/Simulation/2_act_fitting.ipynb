{
 "cells": [
  {
   "cell_type": "code",
   "execution_count": 1,
   "metadata": {
    "scrolled": true,
    "tags": []
   },
   "outputs": [],
   "source": [
    "import pandas\n",
    "import numpy as np\n",
    "import matplotlib.pyplot as plt\n",
    "from scipy import optimize as op\n",
    "from scipy.optimize import curve_fit\n",
    "import math\n",
    "import torch"
   ]
  },
  {
   "cell_type": "code",
   "execution_count": 2,
   "metadata": {
    "tags": []
   },
   "outputs": [],
   "source": [
    "def f(x, eta1,eta2,eta3,eta4):\n",
    "    return eta1 + eta2 * np.tanh((x - eta3) * eta4)"
   ]
  },
  {
   "cell_type": "code",
   "execution_count": 3,
   "metadata": {
    "tags": []
   },
   "outputs": [
    {
     "data": {
      "text/plain": [
       "(4001, 12)"
      ]
     },
     "execution_count": 3,
     "metadata": {},
     "output_type": "execute_result"
    }
   ],
   "source": [
    "data = torch.load('./ptanh_fault.data').numpy()\n",
    "data.shape"
   ]
  },
  {
   "cell_type": "code",
   "execution_count": 4,
   "metadata": {
    "scrolled": true,
    "tags": []
   },
   "outputs": [
    {
     "name": "stderr",
     "output_type": "stream",
     "text": [
      "/Users/haibinzhao/miniconda3/envs/ML/lib/python3.8/site-packages/scipy/optimize/minpack.py:833: OptimizeWarning: Covariance of the parameters could not be estimated\n",
      "  warnings.warn('Covariance of the parameters could not be estimated',\n"
     ]
    }
   ],
   "source": [
    "x = np.linspace(-2, 2, 4001)\n",
    "result = []\n",
    "\n",
    "k = 0\n",
    "y = data[:, k]\n",
    "popt, _ = curve_fit(f, x, y, maxfev=1000000, p0=[0., -1., 0., 0.], bounds=([-np.inf, -np.inf, -np.inf, -np.inf], [np.inf, np.inf, np.inf, np.inf]))\n",
    "eta_1, eta_2, eta_3, eta_4 = popt\n",
    "result.append([eta_1, eta_2, eta_3, eta_4])\n",
    "\n",
    "plt.figure()\n",
    "plt.plot(x, y, color='green', label='SPICE')\n",
    "plt.plot(x, f(x, *popt), '--', color='red', label='Fitting')\n",
    "plt.xlim(-2, 2)\n",
    "plt.legend()\n",
    "plt.savefig(f'./tanh{k}.pdf', format='pdf', bbox_inches='tight')\n",
    "plt.close()"
   ]
  },
  {
   "cell_type": "code",
   "execution_count": 5,
   "metadata": {
    "tags": []
   },
   "outputs": [],
   "source": [
    "k = 1\n",
    "y = data[:, k]\n",
    "popt, _ = curve_fit(f, x, y, maxfev=1000000, p0=[0., -1., 0., 0.], bounds=([-np.inf, -np.inf, -np.inf, -np.inf], [np.inf, np.inf, np.inf, np.inf]))\n",
    "eta_1, eta_2, eta_3, eta_4 = popt\n",
    "result.append([eta_1, eta_2, eta_3, eta_4])\n",
    "\n",
    "plt.figure()\n",
    "plt.plot(x, y, color='green', label='SPICE')\n",
    "plt.plot(x, f(x, *popt), '--', color='red', label='Fitting')\n",
    "plt.xlim(-2, 2)\n",
    "plt.legend()\n",
    "plt.savefig(f'./tanh{k}.pdf', format='pdf', bbox_inches='tight')\n",
    "plt.close()"
   ]
  },
  {
   "cell_type": "code",
   "execution_count": 6,
   "metadata": {
    "tags": []
   },
   "outputs": [],
   "source": [
    "k = 2\n",
    "y = data[:, k]\n",
    "popt, _ = curve_fit(f, x, y, maxfev=1000000, p0=[0., 1., 0., 0.], bounds=([-np.inf, -np.inf, -np.inf, -np.inf], [np.inf, np.inf, np.inf, np.inf]))\n",
    "eta_1, eta_2, eta_3, eta_4 = popt\n",
    "result.append([eta_1, eta_2, eta_3, eta_4])\n",
    "\n",
    "plt.figure()\n",
    "plt.plot(x, y, color='green', label='SPICE')\n",
    "plt.plot(x, f(x, *popt), '--', color='red', label='Fitting')\n",
    "plt.xlim(-2, 2)\n",
    "plt.legend()\n",
    "plt.savefig(f'./tanh{k}.pdf', format='pdf', bbox_inches='tight')\n",
    "plt.close()"
   ]
  },
  {
   "cell_type": "code",
   "execution_count": 7,
   "metadata": {},
   "outputs": [
    {
     "name": "stderr",
     "output_type": "stream",
     "text": [
      "/Users/haibinzhao/miniconda3/envs/ML/lib/python3.8/site-packages/scipy/optimize/minpack.py:833: OptimizeWarning: Covariance of the parameters could not be estimated\n",
      "  warnings.warn('Covariance of the parameters could not be estimated',\n"
     ]
    }
   ],
   "source": [
    "k = 3\n",
    "y = data[:, k]\n",
    "popt, _ = curve_fit(f, x, y, maxfev=1000000, p0=[0., -1., 0., 0.], bounds=([-np.inf, -np.inf, -np.inf, -np.inf], [np.inf, np.inf, np.inf, np.inf]))\n",
    "eta_1, eta_2, eta_3, eta_4 = popt\n",
    "result.append([eta_1, eta_2, eta_3, eta_4])\n",
    "\n",
    "plt.figure()\n",
    "plt.plot(x, y, color='green', label='SPICE')\n",
    "plt.plot(x, f(x, *popt), '--', color='red', label='Fitting')\n",
    "plt.xlim(-2, 2)\n",
    "plt.legend()\n",
    "plt.savefig(f'./tanh{k}.pdf', format='pdf', bbox_inches='tight')\n",
    "plt.close()"
   ]
  },
  {
   "cell_type": "code",
   "execution_count": 8,
   "metadata": {},
   "outputs": [],
   "source": [
    "k = 4\n",
    "y = data[:, k]\n",
    "popt, _ = curve_fit(f, x, y, maxfev=1000000, p0=[0., -1., 0., 0.], bounds=([-np.inf, -np.inf, -np.inf, -np.inf], [np.inf, np.inf, np.inf, np.inf]))\n",
    "eta_1, eta_2, eta_3, eta_4 = popt\n",
    "result.append([eta_1, eta_2, eta_3, eta_4])\n",
    "\n",
    "plt.figure()\n",
    "plt.plot(x, y, color='green', label='SPICE')\n",
    "plt.plot(x, f(x, *popt), '--', color='red', label='Fitting')\n",
    "plt.xlim(-2, 2)\n",
    "plt.legend()\n",
    "plt.savefig(f'./tanh{k}.pdf', format='pdf', bbox_inches='tight')\n",
    "plt.close()"
   ]
  },
  {
   "cell_type": "code",
   "execution_count": 9,
   "metadata": {},
   "outputs": [],
   "source": [
    "k = 5\n",
    "y = data[:, k]\n",
    "popt, _ = curve_fit(f, x, y, maxfev=1000000, p0=[0., -1., 0., 0.], bounds=([-np.inf, -np.inf, -np.inf, -np.inf], [np.inf, np.inf, np.inf, np.inf]))\n",
    "eta_1, eta_2, eta_3, eta_4 = popt\n",
    "result.append([eta_1, eta_2, eta_3, eta_4])\n",
    "\n",
    "plt.figure()\n",
    "plt.plot(x, y, color='green', label='SPICE')\n",
    "plt.plot(x, f(x, *popt), '--', color='red', label='Fitting')\n",
    "plt.xlim(-2, 2)\n",
    "plt.legend()\n",
    "plt.savefig(f'./tanh{k}.pdf', format='pdf', bbox_inches='tight')\n",
    "plt.close()"
   ]
  },
  {
   "cell_type": "code",
   "execution_count": 10,
   "metadata": {},
   "outputs": [
    {
     "name": "stderr",
     "output_type": "stream",
     "text": [
      "/Users/haibinzhao/miniconda3/envs/ML/lib/python3.8/site-packages/scipy/optimize/minpack.py:833: OptimizeWarning: Covariance of the parameters could not be estimated\n",
      "  warnings.warn('Covariance of the parameters could not be estimated',\n"
     ]
    }
   ],
   "source": [
    "k = 6\n",
    "y = data[:, k]\n",
    "popt, _ = curve_fit(f, x, y, maxfev=1000000, p0=[0., -1., 0., 0.], bounds=([-np.inf, -np.inf, -np.inf, -np.inf], [np.inf, np.inf, np.inf, np.inf]))\n",
    "eta_1, eta_2, eta_3, eta_4 = popt\n",
    "result.append([eta_1, eta_2, eta_3, eta_4])\n",
    "\n",
    "plt.figure()\n",
    "plt.plot(x, y, color='green', label='SPICE')\n",
    "plt.plot(x, f(x, *popt), '--', color='red', label='Fitting')\n",
    "plt.xlim(-2, 2)\n",
    "plt.legend()\n",
    "plt.savefig(f'./tanh{k}.pdf', format='pdf', bbox_inches='tight')\n",
    "plt.close()"
   ]
  },
  {
   "cell_type": "code",
   "execution_count": 11,
   "metadata": {},
   "outputs": [],
   "source": [
    "k = 7\n",
    "y = data[:, k]\n",
    "popt, _ = curve_fit(f, x, y, maxfev=1000000, p0=[0., -1., 0., 0.], bounds=([-np.inf, -np.inf, -np.inf, -np.inf], [np.inf, np.inf, np.inf, np.inf]))\n",
    "eta_1, eta_2, eta_3, eta_4 = popt\n",
    "result.append([eta_1, eta_2, eta_3, eta_4])\n",
    "\n",
    "plt.figure()\n",
    "plt.plot(x, y, color='green', label='SPICE')\n",
    "plt.plot(x, f(x, *popt), '--', color='red', label='Fitting')\n",
    "plt.xlim(-2, 2)\n",
    "plt.legend()\n",
    "plt.savefig(f'./tanh{k}.pdf', format='pdf', bbox_inches='tight')\n",
    "plt.close()"
   ]
  },
  {
   "cell_type": "code",
   "execution_count": 12,
   "metadata": {},
   "outputs": [
    {
     "name": "stderr",
     "output_type": "stream",
     "text": [
      "/Users/haibinzhao/miniconda3/envs/ML/lib/python3.8/site-packages/scipy/optimize/minpack.py:833: OptimizeWarning: Covariance of the parameters could not be estimated\n",
      "  warnings.warn('Covariance of the parameters could not be estimated',\n"
     ]
    }
   ],
   "source": [
    "k = 8\n",
    "y = data[:, k]\n",
    "popt, _ = curve_fit(f, x, y, maxfev=1000000, p0=[0., -1., 0., 0.], bounds=([-np.inf, -np.inf, -np.inf, -np.inf], [np.inf, np.inf, np.inf, np.inf]))\n",
    "eta_1, eta_2, eta_3, eta_4 = popt\n",
    "result.append([eta_1, eta_2, eta_3, eta_4])\n",
    "\n",
    "plt.figure()\n",
    "plt.plot(x, y, color='green', label='SPICE')\n",
    "plt.plot(x, f(x, *popt), '--', color='red', label='Fitting')\n",
    "plt.xlim(-2, 2)\n",
    "plt.legend()\n",
    "plt.savefig(f'./tanh{k}.pdf', format='pdf', bbox_inches='tight')\n",
    "plt.close()"
   ]
  },
  {
   "cell_type": "code",
   "execution_count": 13,
   "metadata": {},
   "outputs": [
    {
     "name": "stderr",
     "output_type": "stream",
     "text": [
      "/Users/haibinzhao/miniconda3/envs/ML/lib/python3.8/site-packages/scipy/optimize/minpack.py:833: OptimizeWarning: Covariance of the parameters could not be estimated\n",
      "  warnings.warn('Covariance of the parameters could not be estimated',\n"
     ]
    }
   ],
   "source": [
    "k = 9\n",
    "y = data[:, k]\n",
    "popt, _ = curve_fit(f, x, y, maxfev=1000000, p0=[0., -1., 0., 0.], bounds=([-np.inf, -np.inf, -np.inf, -np.inf], [np.inf, np.inf, np.inf, np.inf]))\n",
    "eta_1, eta_2, eta_3, eta_4 = popt\n",
    "result.append([eta_1, eta_2, eta_3, eta_4])\n",
    "\n",
    "plt.figure()\n",
    "plt.plot(x, y, color='green', label='SPICE')\n",
    "plt.plot(x, f(x, *popt), '--', color='red', label='Fitting')\n",
    "plt.xlim(-2, 2)\n",
    "plt.legend()\n",
    "plt.savefig(f'./tanh{k}.pdf', format='pdf', bbox_inches='tight')\n",
    "plt.close()"
   ]
  },
  {
   "cell_type": "code",
   "execution_count": 14,
   "metadata": {},
   "outputs": [],
   "source": [
    "k = 10\n",
    "y = data[:, k]\n",
    "popt, _ = curve_fit(f, x, y, maxfev=1000000, p0=[0., -1., 0., 0.], bounds=([-np.inf, -np.inf, -np.inf, -np.inf], [np.inf, np.inf, np.inf, np.inf]))\n",
    "eta_1, eta_2, eta_3, eta_4 = popt\n",
    "result.append([eta_1, eta_2, eta_3, eta_4])\n",
    "\n",
    "plt.figure()\n",
    "plt.plot(x, y, color='green', label='SPICE')\n",
    "plt.plot(x, f(x, *popt), '--', color='red', label='Fitting')\n",
    "plt.xlim(-2, 2)\n",
    "plt.legend()\n",
    "plt.savefig(f'./tanh{k}.pdf', format='pdf', bbox_inches='tight')\n",
    "plt.close()"
   ]
  },
  {
   "cell_type": "code",
   "execution_count": 15,
   "metadata": {},
   "outputs": [
    {
     "name": "stderr",
     "output_type": "stream",
     "text": [
      "/Users/haibinzhao/miniconda3/envs/ML/lib/python3.8/site-packages/scipy/optimize/minpack.py:833: OptimizeWarning: Covariance of the parameters could not be estimated\n",
      "  warnings.warn('Covariance of the parameters could not be estimated',\n"
     ]
    }
   ],
   "source": [
    "k = 11\n",
    "y = data[:, k]\n",
    "popt, _ = curve_fit(f, x, y, maxfev=1000000, p0=[0., -1., 0., 0.], bounds=([-np.inf, -np.inf, -np.inf, -np.inf], [np.inf, np.inf, np.inf, np.inf]))\n",
    "eta_1, eta_2, eta_3, eta_4 = popt\n",
    "result.append([eta_1, eta_2, eta_3, eta_4])\n",
    "\n",
    "plt.figure()\n",
    "plt.plot(x, y, color='green', label='SPICE')\n",
    "plt.plot(x, f(x, *popt), '--', color='red', label='Fitting')\n",
    "plt.xlim(-2, 2)\n",
    "plt.legend()\n",
    "plt.savefig(f'./tanh{k}.pdf', format='pdf', bbox_inches='tight')\n",
    "plt.close()"
   ]
  },
  {
   "cell_type": "code",
   "execution_count": 16,
   "metadata": {},
   "outputs": [
    {
     "data": {
      "text/plain": [
       "torch.Size([12, 4])"
      ]
     },
     "execution_count": 16,
     "metadata": {},
     "output_type": "execute_result"
    }
   ],
   "source": [
    "a = torch.tensor(result)\n",
    "a.shape"
   ]
  },
  {
   "cell_type": "code",
   "execution_count": 17,
   "metadata": {},
   "outputs": [
    {
     "data": {
      "text/plain": [
       "tensor([[ 9.9997e-01, -1.0000e+00,  0.0000e+00,  9.1182e-18],\n",
       "        [-5.5856e-01, -1.0000e+00,  0.0000e+00, -3.7472e-10],\n",
       "        [-1.6919e+01,  1.4562e+01,  8.6479e-02,  8.2578e+01],\n",
       "        [ 1.0000e+00, -1.0000e+00,  0.0000e+00,  4.4982e-16],\n",
       "        [ 1.6839e+00, -2.2404e+00, -2.5173e+00,  1.1147e+00],\n",
       "        [-5.5856e-01, -1.0000e+00,  0.0000e+00, -3.7472e-10],\n",
       "        [ 9.9997e-01, -1.0000e+00,  0.0000e+00,  9.1182e-18],\n",
       "        [ 2.3198e-01, -7.8334e-01, -4.1194e-01,  3.4699e+00],\n",
       "        [ 1.0000e+00, -1.0000e+00,  0.0000e+00,  4.4982e-16],\n",
       "        [ 9.9997e-01, -1.0000e+00,  0.0000e+00,  9.1182e-18],\n",
       "        [-2.4548e-01, -2.3790e-02,  8.1499e-01,  1.5337e+00],\n",
       "        [-1.0000e+00, -1.0000e+00,  0.0000e+00,  4.4070e-16]],\n",
       "       dtype=torch.float64)"
      ]
     },
     "execution_count": 17,
     "metadata": {},
     "output_type": "execute_result"
    }
   ],
   "source": [
    "a"
   ]
  }
 ],
 "metadata": {
  "kernelspec": {
   "display_name": "ML",
   "language": "python",
   "name": "python3"
  },
  "language_info": {
   "codemirror_mode": {
    "name": "ipython",
    "version": 3
   },
   "file_extension": ".py",
   "mimetype": "text/x-python",
   "name": "python",
   "nbconvert_exporter": "python",
   "pygments_lexer": "ipython3",
   "version": "3.8.13"
  },
  "toc": {
   "base_numbering": 1,
   "nav_menu": {},
   "number_sections": true,
   "sideBar": true,
   "skip_h1_title": false,
   "title_cell": "Table of Contents",
   "title_sidebar": "Contents",
   "toc_cell": false,
   "toc_position": {},
   "toc_section_display": true,
   "toc_window_display": false
  }
 },
 "nbformat": 4,
 "nbformat_minor": 4
}
