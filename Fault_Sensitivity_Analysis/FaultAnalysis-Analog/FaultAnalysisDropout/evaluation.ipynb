{
 "cells": [
  {
   "cell_type": "code",
   "execution_count": 2,
   "id": "9591a451-d6a9-42ff-8eb7-028a7cdd5420",
   "metadata": {
    "tags": []
   },
   "outputs": [
    {
     "name": "stdout",
     "output_type": "stream",
     "text": [
      "{'N_class': 2,\n",
      " 'N_feature': 6,\n",
      " 'N_test': 25,\n",
      " 'N_train': 70,\n",
      " 'N_valid': 23,\n",
      " 'dataname': 'acuteinflammation'}\n"
     ]
    }
   ],
   "source": [
    "import sys\n",
    "import os\n",
    "from pathlib import Path\n",
    "import pickle\n",
    "import torch\n",
    "import pprint\n",
    "sys.path.append(os.getcwd())\n",
    "sys.path.append(str(Path(os.getcwd()).parent))\n",
    "from utils import *\n",
    "from configuration import *\n",
    "import pNN_FA as pNN\n",
    "\n",
    "if not os.path.exists('./evaluation/'):\n",
    "    os.makedirs('./evaluation/')\n",
    "\n",
    "args = parser.parse_args([])\n",
    "args = FormulateArgs(args)\n",
    "\n",
    "valid_loader, datainfo = GetDataLoader(args, 'valid', path='../dataset/')\n",
    "test_loader , datainfo = GetDataLoader(args, 'test',  path='../dataset/')\n",
    "pprint.pprint(datainfo)\n",
    "\n",
    "for x,y in valid_loader:\n",
    "    X_valid, y_valid = x.to(args.DEVICE), y.to(args.DEVICE)\n",
    "for x,y in test_loader:\n",
    "    X_test, y_test = x.to(args.DEVICE), y.to(args.DEVICE)"
   ]
  },
  {
   "cell_type": "code",
   "execution_count": 3,
   "id": "918e9d28-e46d-45a1-9649-6922d945f75a",
   "metadata": {},
   "outputs": [],
   "source": [
    "topology = [datainfo['N_feature']] + args.hidden + [datainfo['N_class']]\n",
    "pnn = pNN.pNN(topology, args).to(args.DEVICE)\n",
    "pnn.UpdateVariation(1, 0.)\n",
    "\n",
    "modelname = f\"data_{args.DATASET:02d}_{datainfo['dataname']}_seed_{args.SEED:02d}_epsilon_{args.e_train}_dropout_{args.dropout}.model\"\n",
    "trained_model = torch.load(f'./models/{modelname}')\n",
    "trained_model.UpdateVariation(1, 0.)\n",
    "trained_model.UpdateDropout(0.)\n",
    "\n",
    "for i, j in zip(trained_model.model, pnn.model):\n",
    "    j.theta_.data = i.theta_.data"
   ]
  },
  {
   "cell_type": "code",
   "execution_count": 4,
   "id": "1547f1b5-3f50-46fb-b00a-43c781293f4e",
   "metadata": {},
   "outputs": [],
   "source": [
    "pnn.UpdateFault(1, 0)"
   ]
  },
  {
   "cell_type": "code",
   "execution_count": 7,
   "id": "9ed921e2-26e9-4a8e-a2c2-5c70642c5c4c",
   "metadata": {},
   "outputs": [
    {
     "data": {
      "text/plain": [
       "tensor(1.)"
      ]
     },
     "execution_count": 7,
     "metadata": {},
     "output_type": "execute_result"
    }
   ],
   "source": [
    "pred = pnn(X_valid)[0,0,:,:]\n",
    "(torch.argmax(pred, dim=1) == y_valid).sum() / y_valid.numel()"
   ]
  },
  {
   "cell_type": "code",
   "execution_count": 15,
   "id": "6a6e9e2f-6794-4dc8-9bb3-2e2fc95d2c7b",
   "metadata": {},
   "outputs": [],
   "source": [
    "pnn.UpdateFault(1, 2)"
   ]
  },
  {
   "cell_type": "code",
   "execution_count": 17,
   "id": "6407ac15-5e0f-4f76-91d4-3540a61e6039",
   "metadata": {},
   "outputs": [
    {
     "data": {
      "text/plain": [
       "tensor(0.7826)"
      ]
     },
     "execution_count": 17,
     "metadata": {},
     "output_type": "execute_result"
    }
   ],
   "source": [
    "pred = pnn(X_valid)[0,0,:,:]\n",
    "(torch.argmax(pred, dim=1) == y_valid).sum() / y_valid.numel()"
   ]
  },
  {
   "cell_type": "code",
   "execution_count": null,
   "id": "6cc8ec15-ecfe-4f9e-b514-88a43ee22e1e",
   "metadata": {},
   "outputs": [],
   "source": []
  },
  {
   "cell_type": "code",
   "execution_count": 16,
   "id": "be26ab0b-3b17-4cff-8000-189e613f5b45",
   "metadata": {
    "tags": []
   },
   "outputs": [],
   "source": [
    "\n",
    "\n",
    "\n",
    "\n",
    "if not os.path.exists(f\"./evaluation/result_data_{args.DATASET:02d}_{datainfo['dataname']}_seed_{args.SEED:02d}_epsilon_{args.e_train}_dropout_{args.dropout}.matrix\"):\n",
    "\n",
    "    N_Faults = 500\n",
    "    results = torch.zeros([N_Faults, 6])\n",
    "    evaluator = Evaluator(args).to(args.DEVICE)\n",
    "    modelname = f\"data_{args.DATASET:02d}_{datainfo['dataname']}_seed_{args.SEED:02d}_epsilon_{args.e_train}_faults_{args.e_fault:1d}.model\"\n",
    "\n",
    "    if os.path.exists(f'./models/{modelname}'):\n",
    "        model = torch.load(f'./models/{modelname}', map_location=args.DEVICE)\n",
    "        print(modelname)\n",
    "        model.UpdateArgs(args)\n",
    "        \n",
    "        model.UpdateVariation(args.N_test, args.e_test)\n",
    "        model.UpdateFault(1, args.e_fault_test)\n",
    "    \n",
    "        SetSeed(args.SEED)\n",
    "\n",
    "        for faultsample in range(N_Faults):\n",
    "            print(faultsample)\n",
    "        \n",
    "            with torch.no_grad():\n",
    "                result_valid = evaluator(model, X_valid, y_valid)\n",
    "                valid_acc, _, valid_power, valid_area = result_valid['acc'], result_valid['std'], result_valid['power'], result_valid['area']\n",
    "                result_test  = evaluator(model, X_test,  y_test)\n",
    "                test_acc, _, test_power, test_area = result_test['acc'], result_test['std'], result_test['power'], result_test['area']\n",
    "        \n",
    "            results[faultsample, 0] = valid_acc\n",
    "            results[faultsample, 1] = valid_power\n",
    "            results[faultsample, 2] = valid_area\n",
    "            results[faultsample, 3] = test_acc\n",
    "            results[faultsample, 4] = test_power\n",
    "            results[faultsample, 5] = test_area\n",
    "                \n",
    "                            \n",
    "        torch.save(results, f\"./evaluation/result_data_{args.DATASET:02d}_{datainfo['dataname']}_seed_{args.SEED:02d}_eTrain_{args.e_train}_eTest{args.e_test}_fTrain_{args.e_fault}_fTest{args.e_fault_test}.matrix\")"
   ]
  },
  {
   "cell_type": "code",
   "execution_count": 17,
   "id": "b821adba-a935-4b00-9c0b-85e24d33aede",
   "metadata": {},
   "outputs": [
    {
     "name": "stdout",
     "output_type": "stream",
     "text": [
      "data_00_acuteinflammation_seed_00_epsilon_0.1_faults_1.model\n"
     ]
    }
   ],
   "source": []
  },
  {
   "cell_type": "code",
   "execution_count": 18,
   "id": "e1c2ec71-c683-4f59-b683-76d304771d15",
   "metadata": {},
   "outputs": [
    {
     "name": "stdout",
     "output_type": "stream",
     "text": [
      "0\n",
      "1\n",
      "2\n",
      "3\n",
      "4\n",
      "5\n",
      "6\n",
      "7\n",
      "8\n",
      "9\n",
      "10\n",
      "11\n",
      "12\n",
      "13\n",
      "14\n",
      "15\n",
      "16\n",
      "17\n",
      "18\n",
      "19\n",
      "20\n",
      "21\n",
      "22\n",
      "23\n",
      "24\n",
      "25\n",
      "26\n",
      "27\n",
      "28\n",
      "29\n",
      "30\n",
      "31\n",
      "32\n",
      "33\n",
      "34\n",
      "35\n",
      "36\n",
      "37\n",
      "38\n",
      "39\n",
      "40\n",
      "41\n",
      "42\n",
      "43\n",
      "44\n",
      "45\n",
      "46\n",
      "47\n",
      "48\n",
      "49\n"
     ]
    }
   ],
   "source": []
  },
  {
   "cell_type": "code",
   "execution_count": 14,
   "id": "acf41c50-9379-4f52-b8a9-1b07c53682b5",
   "metadata": {},
   "outputs": [
    {
     "data": {
      "text/plain": [
       "tensor(0.9741)"
      ]
     },
     "execution_count": 14,
     "metadata": {},
     "output_type": "execute_result"
    }
   ],
   "source": [
    "results[:,3].mean()"
   ]
  },
  {
   "cell_type": "code",
   "execution_count": 19,
   "id": "b9ebacbf-9c93-458b-9c82-02a44d79af71",
   "metadata": {},
   "outputs": [
    {
     "data": {
      "text/plain": [
       "tensor(0.8563)"
      ]
     },
     "execution_count": 19,
     "metadata": {},
     "output_type": "execute_result"
    }
   ],
   "source": [
    "results[:,3].mean()"
   ]
  },
  {
   "cell_type": "code",
   "execution_count": null,
   "id": "c03103ad-4a25-4b50-b73a-2d6cdcc358b0",
   "metadata": {},
   "outputs": [],
   "source": []
  }
 ],
 "metadata": {
  "kernelspec": {
   "display_name": "pNN",
   "language": "python",
   "name": "pnn"
  },
  "language_info": {
   "codemirror_mode": {
    "name": "ipython",
    "version": 3
   },
   "file_extension": ".py",
   "mimetype": "text/x-python",
   "name": "python",
   "nbconvert_exporter": "python",
   "pygments_lexer": "ipython3",
   "version": "3.9.16"
  }
 },
 "nbformat": 4,
 "nbformat_minor": 5
}
