{
 "cells": [
  {
   "cell_type": "code",
   "execution_count": 2,
   "id": "9591a451-d6a9-42ff-8eb7-028a7cdd5420",
   "metadata": {
    "tags": []
   },
   "outputs": [],
   "source": [
    "import sys\n",
    "import os\n",
    "from pathlib import Path\n",
    "import pickle\n",
    "import torch\n",
    "import pprint\n",
    "sys.path.append(os.getcwd())\n",
    "sys.path.append(str(Path(os.getcwd()).parent))\n",
    "from utils import *\n",
    "from configuration import *\n",
    "\n",
    "if not os.path.exists('./evaluation/'):\n",
    "    os.makedirs('./evaluation/')"
   ]
  },
  {
   "cell_type": "code",
   "execution_count": null,
   "id": "be26ab0b-3b17-4cff-8000-189e613f5b45",
   "metadata": {
    "tags": []
   },
   "outputs": [
    {
     "name": "stdout",
     "output_type": "stream",
     "text": [
      "0 0\n",
      "0 1\n",
      "0 2\n",
      "0 3\n",
      "0 4\n",
      "0 5\n",
      "0 6\n",
      "0 7\n",
      "0 8\n",
      "0 9\n",
      "0 10\n",
      "0 11\n",
      "0 12\n",
      "0 13\n",
      "0 14\n",
      "0 15\n",
      "0 16\n",
      "0 17\n",
      "0 18\n",
      "0 19\n",
      "0 20\n",
      "0 21\n",
      "0 22\n",
      "0 23\n",
      "0 24\n",
      "0 25\n",
      "0 26\n",
      "0 27\n",
      "0 28\n"
     ]
    }
   ],
   "source": [
    "args = parser.parse_args([])\n",
    "args.SEED = 0\n",
    "args.e_train = 0.0\n",
    "\n",
    "args.DATASET = 1\n",
    "args.e_test = 0.05\n",
    "\n",
    "args = FormulateArgs(args)\n",
    "\n",
    "valid_loader, datainfo = GetDataLoader(args, 'valid', path='../dataset/')\n",
    "test_loader , datainfo = GetDataLoader(args, 'test',  path='../dataset/')\n",
    "for x,y in valid_loader:\n",
    "    X_valid, y_valid = x.to(args.DEVICE), y.to(args.DEVICE)\n",
    "for x,y in test_loader:\n",
    "    X_test, y_test = x.to(args.DEVICE), y.to(args.DEVICE)\n",
    "\n",
    "if not os.path.exists(f\"./evaluation/result_data_{args.DATASET:02d}_{datainfo['dataname']}_seed_{args.SEED:02d}_eTrain_{args.e_train}_eTest{args.e_test}.matrix\"):\n",
    "\n",
    "    FAULTS = [0, 1, 2, 4, 8]\n",
    "    N_Faults = 100\n",
    "    \n",
    "    results = torch.zeros([len(FAULTS), N_Faults, 6])\n",
    "    \n",
    "    evaluator = Evaluator(args).to(args.DEVICE)\n",
    "    \n",
    "    modelname = f\"data_{args.DATASET:02d}_{datainfo['dataname']}_seed:{args.SEED:02d}_epsilon:{args.e_train}.model\"\n",
    "    model = torch.load(f'./models/{modelname}', map_location=args.DEVICE)\n",
    "    model.UpdateArgs(args)\n",
    "    \n",
    "    model.UpdateVariation(args.N_test, args.e_test)\n",
    "    \n",
    "    for f, fault in enumerate(FAULTS):\n",
    "        for faultsample in range(N_Faults):\n",
    "            print(fault, faultsample)\n",
    "            SetSeed(args.SEED)\n",
    "    \n",
    "            model.RemoveFault()\n",
    "            model.SampleFault(fault)\n",
    "            \n",
    "            result_valid = evaluator(model, X_valid, y_valid)\n",
    "            valid_acc, _, valid_power, valid_area = result_valid['acc'], result_valid['std'], result_valid['power'], result_valid['area']\n",
    "            result_test  = evaluator(model, X_test,  y_test)\n",
    "            test_acc, _, test_power, test_area = result_test['acc'], result_test['std'], result_test['power'], result_test['area']\n",
    "    \n",
    "            results[f, faultsample, 0] = valid_acc\n",
    "            results[f, faultsample, 1] = valid_power\n",
    "            results[f, faultsample, 2] = valid_area\n",
    "            results[f, faultsample, 3] = test_acc\n",
    "            results[f, faultsample, 4] = test_power\n",
    "            results[f, faultsample, 5] = test_area\n",
    "            \n",
    "                        \n",
    "    torch.save(results, f\"./evaluation/result_data_{args.DATASET:02d}_{datainfo['dataname']}_seed_{args.SEED:02d}_eTrain_{args.e_train}_eTest{args.e_test}.matrix\")"
   ]
  },
  {
   "cell_type": "code",
   "execution_count": null,
   "id": "b821adba-a935-4b00-9c0b-85e24d33aede",
   "metadata": {},
   "outputs": [],
   "source": []
  }
 ],
 "metadata": {
  "kernelspec": {
   "display_name": "pNN",
   "language": "python",
   "name": "pnn"
  },
  "language_info": {
   "codemirror_mode": {
    "name": "ipython",
    "version": 3
   },
   "file_extension": ".py",
   "mimetype": "text/x-python",
   "name": "python",
   "nbconvert_exporter": "python",
   "pygments_lexer": "ipython3",
   "version": "3.9.16"
  }
 },
 "nbformat": 4,
 "nbformat_minor": 5
}
